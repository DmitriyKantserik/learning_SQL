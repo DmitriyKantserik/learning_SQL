{
 "cells": [
  {
   "attachments": {},
   "cell_type": "markdown",
   "metadata": {},
   "source": [
    "SQL-EX.RU\n",
    "\n",
    "DATABASE DESCRIPTION \"Computer firm\":\n",
    "\n",
    "The database scheme consists of four tables:\n",
    "\n",
    "* Product(maker, model, type)\n",
    "* PC(code, model, speed, ram, hd, cd, price)\n",
    "* Laptop(code, model, speed, ram, hd, screen, price)\n",
    "* Printer(code, model, color, type, price)\n",
    "\n",
    "The database scheme consists of four tables:\n",
    "Product(maker, model, type)\n",
    "PC(code, model, speed, ram, hd, cd, price)\n",
    "Laptop(code, model, speed, ram, hd, screen, price)\n",
    "Printer(code, model, color, type, price)\n",
    "The Product table contains data on the maker, model number, and type of product ('PC', 'Laptop', or 'Printer'). It is assumed that model numbers in the Product table are unique for all makers and product types. Each personal computer in the PC table is unambiguously identified by a unique code, and is additionally characterized by its model (foreign key referring to the Product table), processor speed (in MHz) – speed field, RAM capacity (in Mb) - ram, hard disk drive capacity (in Gb) – hd, CD-ROM speed (e.g, '4x') - cd, and its price. The Laptop table is similar to the PC table, except that instead of the CD-ROM speed, it contains the screen size (in inches) – screen. For each printer model in the Printer table, its output type (‘y’ for color and ‘n’ for monochrome) – color field, printing technology ('Laser', 'Jet', or 'Matrix') – type, and price are specified."
   ]
  },
  {
   "cell_type": "code",
   "execution_count": null,
   "metadata": {},
   "outputs": [],
   "source": [
    "# Task 1\n",
    "# Find the model number, speed and hard drive capacity for all the PCs with prices below $500.\n",
    "# Result set: model, speed, hd.\n",
    "\n",
    "SELECT \n",
    "  model, \n",
    "  speed, \n",
    "  hd \n",
    "FROM \n",
    "  pc \n",
    "WHERE \n",
    "  price < 500;"
   ]
  },
  {
   "cell_type": "code",
   "execution_count": null,
   "metadata": {},
   "outputs": [],
   "source": [
    "# Task 2\n",
    "# List all printer makers.\n",
    "# Result set: maker.\n",
    "\n",
    "SELECT \n",
    "  DISTINCT maker \n",
    "FROM \n",
    "  product \n",
    "WHERE \n",
    "  type = 'Printer';"
   ]
  },
  {
   "cell_type": "code",
   "execution_count": null,
   "metadata": {},
   "outputs": [],
   "source": [
    "# Task 3\n",
    "# Find the model number, RAM and screen size of the laptops with prices over $1000.\n",
    "\n",
    "SELECT \n",
    "  model, \n",
    "  ram, \n",
    "  screen \n",
    "FROM \n",
    "  laptop \n",
    "WHERE \n",
    "  price > 1000;"
   ]
  },
  {
   "cell_type": "code",
   "execution_count": null,
   "metadata": {},
   "outputs": [],
   "source": [
    "# Task 4\n",
    "# Find all records from the Printer table containing data about color printers.\n",
    "\n",
    "SELECT \n",
    "  * \n",
    "FROM \n",
    "  printer \n",
    "WHERE \n",
    "  color = 'y';"
   ]
  },
  {
   "cell_type": "code",
   "execution_count": null,
   "metadata": {},
   "outputs": [],
   "source": [
    "# Task 5\n",
    "# Find the model number, speed and hard drive capacity of PCs cheaper than $600 having a 12x or a 24x CD drive.\n",
    "\n",
    "SELECT \n",
    "  model, \n",
    "  speed, \n",
    "  hd \n",
    "FROM \n",
    "  pc \n",
    "WHERE \n",
    "  (\n",
    "    cd = '12x' \n",
    "    OR cd = '24x'\n",
    "  ) \n",
    "  AND price < 600;"
   ]
  },
  {
   "cell_type": "code",
   "execution_count": null,
   "metadata": {},
   "outputs": [],
   "source": [
    "# Task 6\n",
    "# For each maker producing laptops with a hard drive capacity of 10 Gb or higher, find the speed of such laptops.\n",
    "# Result set: maker, speed.\n",
    "\n",
    "SELECT \n",
    "  DISTINCT maker, \n",
    "  speed \n",
    "FROM \n",
    "  laptop \n",
    "  INNER JOIN product ON laptop.model = product.model \n",
    "WHERE \n",
    "  type = 'Laptop' \n",
    "  AND hd >= 10;"
   ]
  },
  {
   "cell_type": "code",
   "execution_count": null,
   "metadata": {},
   "outputs": [],
   "source": [
    "# Task 7\n",
    "# Get the models and prices for all commercially available products (of any type) produced by maker B.\n",
    "\n",
    "SELECT \n",
    "  DISTINCT pc.model, \n",
    "  pc.price \n",
    "FROM \n",
    "  product \n",
    "  INNER JOIN pc ON product.model = pc.model \n",
    "WHERE \n",
    "  maker = 'B'\n",
    "\n",
    "UNION \n",
    "\n",
    "SELECT \n",
    "  DISTINCT laptop.model, \n",
    "  laptop.price \n",
    "FROM \n",
    "  product \n",
    "  INNER JOIN laptop ON product.model = laptop.model \n",
    "WHERE \n",
    "  maker = 'B' \n",
    "\n",
    "UNION \n",
    "\n",
    "SELECT \n",
    "  DISTINCT printer.model, \n",
    "  printer.price \n",
    "FROM \n",
    "  product \n",
    "  INNER JOIN printer ON product.model = printer.model \n",
    "WHERE \n",
    "  maker = 'B'"
   ]
  },
  {
   "cell_type": "code",
   "execution_count": null,
   "metadata": {},
   "outputs": [],
   "source": [
    "# Task 8\n",
    "# Find the makers producing PCs but not laptops.\n",
    "\n",
    "SELECT \n",
    "  DISTINCT maker \n",
    "FROM \n",
    "  product \n",
    "WHERE \n",
    "  type = 'PC' \n",
    "  AND maker NOT IN (\n",
    "    SELECT \n",
    "      maker \n",
    "    FROM \n",
    "      product \n",
    "    WHERE \n",
    "      type = 'Laptop'\n",
    "  );"
   ]
  },
  {
   "cell_type": "code",
   "execution_count": null,
   "metadata": {},
   "outputs": [],
   "source": [
    "# Task 9\n",
    "# Find the makers of PCs with a processor speed of 450 MHz or more. \n",
    "# Result set: maker.\n",
    "\n",
    "SELECT \n",
    "  DISTINCT maker \n",
    "FROM \n",
    "  product AS pr \n",
    "  INNER JOIN pc ON pr.model = pc.model \n",
    "WHERE \n",
    "  speed >= 450;"
   ]
  },
  {
   "cell_type": "code",
   "execution_count": null,
   "metadata": {},
   "outputs": [],
   "source": [
    "# Task 10\n",
    "# Find the printer models having the highest price. \n",
    "# Result set: model, price.\n",
    "\n",
    "SELECT \n",
    "  model, \n",
    "  price \n",
    "FROM \n",
    "  printer \n",
    "WHERE \n",
    "  price = (\n",
    "    SELECT \n",
    "      MAX(price) \n",
    "    FROM \n",
    "      printer\n",
    "  );"
   ]
  },
  {
   "cell_type": "code",
   "execution_count": null,
   "metadata": {},
   "outputs": [],
   "source": [
    "# Task 11\n",
    "# Find out the average speed of PCs.\n",
    "\n",
    "SELECT \n",
    "  AVG(speed) \n",
    "FROM \n",
    "  pc;"
   ]
  },
  {
   "cell_type": "code",
   "execution_count": null,
   "metadata": {},
   "outputs": [],
   "source": [
    "# Task 12\n",
    "# Find out the average speed of the laptops priced over $1000.\n",
    "\n",
    "SELECT \n",
    "  AVG(speed) \n",
    "FROM \n",
    "  laptop \n",
    "WHERE \n",
    "  price > 1000;"
   ]
  },
  {
   "cell_type": "code",
   "execution_count": null,
   "metadata": {},
   "outputs": [],
   "source": [
    "# Task 13\n",
    "# Find out the average speed of the PCs produced by maker A.\n",
    "\n",
    "SELECT \n",
    "  AVG(speed) \n",
    "FROM \n",
    "  product AS pr \n",
    "  INNER JOIN pc ON pr.model = pc.model \n",
    "WHERE \n",
    "  maker = 'A';"
   ]
  },
  {
   "attachments": {},
   "cell_type": "markdown",
   "metadata": {},
   "source": [
    "DATABASE DESCRIPTION \"Ships\":\n",
    "\n",
    "The database of naval ships that took part in World War II is under consideration. The database consists of the following relations:\n",
    "\n",
    "Classes(class, type, country, numGuns, bore, displacement)\n",
    "Ships(name, class, launched)\n",
    "Battles(name, date)\n",
    "Outcomes(ship, battle, result)\n",
    "Ships in classes all have the same general design. A class is normally assigned either the name of the first ship built according to the corresponding design, or a name that is different from any ship name in the database. The ship whose name is assigned to a class is called a lead ship.\n",
    "The Classes relation includes the name of the class, type (can be either bb for a battle ship, or bc for a battle cruiser), country the ship was built in, the number of main guns, gun caliber (bore diameter in inches), and displacement (weight in tons). The Ships relation holds information about the ship name, the name of its corresponding class, and the year the ship was launched. The Battles relation contains names and dates of battles the ships participated in, and the Outcomes relation - the battle result for a given ship (may be sunk, damaged, or OK, the last value meaning the ship survived the battle unharmed).\n",
    "\n",
    "Notes: 1) The Outcomes relation may contain ships not present in the Ships relation. 2) A ship sunk can’t participate in later battles. 3) For historical reasons, lead ships are referred to as head ships in many exercises.4) A ship found in the Outcomes table but not in the Ships table is still considered in the database. This is true even if it is sunk."
   ]
  },
  {
   "cell_type": "code",
   "execution_count": null,
   "metadata": {},
   "outputs": [],
   "source": [
    "# Task 14\n",
    "# For the ships in the Ships table that have at least 10 guns, get the class, name, and country."
   ]
  }
 ],
 "metadata": {
  "kernelspec": {
   "display_name": "Python 3",
   "language": "python",
   "name": "python3"
  },
  "language_info": {
   "codemirror_mode": {
    "name": "ipython",
    "version": 3
   },
   "file_extension": ".py",
   "mimetype": "text/x-python",
   "name": "python",
   "nbconvert_exporter": "python",
   "pygments_lexer": "ipython3",
   "version": "3.9.6"
  },
  "orig_nbformat": 4
 },
 "nbformat": 4,
 "nbformat_minor": 2
}
