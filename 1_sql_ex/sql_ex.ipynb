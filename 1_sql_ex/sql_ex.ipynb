{
 "cells": [
  {
   "attachments": {},
   "cell_type": "markdown",
   "metadata": {},
   "source": [
    "SQL-EX.RU\n",
    "\n",
    "DATABASE DESCRIPTION \"Computer firm\":\n",
    "\n",
    "The database scheme consists of four tables:\n",
    "\n",
    "* Product(maker, model, type)\n",
    "* PC(code, model, speed, ram, hd, cd, price)\n",
    "* Laptop(code, model, speed, ram, hd, screen, price)\n",
    "* Printer(code, model, color, type, price)\n",
    "\n",
    "The database scheme consists of four tables:\n",
    "Product(maker, model, type)\n",
    "PC(code, model, speed, ram, hd, cd, price)\n",
    "Laptop(code, model, speed, ram, hd, screen, price)\n",
    "Printer(code, model, color, type, price)\n",
    "The Product table contains data on the maker, model number, and type of product ('PC', 'Laptop', or 'Printer'). It is assumed that model numbers in the Product table are unique for all makers and product types. Each personal computer in the PC table is unambiguously identified by a unique code, and is additionally characterized by its model (foreign key referring to the Product table), processor speed (in MHz) – speed field, RAM capacity (in Mb) - ram, hard disk drive capacity (in Gb) – hd, CD-ROM speed (e.g, '4x') - cd, and its price. The Laptop table is similar to the PC table, except that instead of the CD-ROM speed, it contains the screen size (in inches) – screen. For each printer model in the Printer table, its output type (‘y’ for color and ‘n’ for monochrome) – color field, printing technology ('Laser', 'Jet', or 'Matrix') – type, and price are specified."
   ]
  },
  {
   "cell_type": "code",
   "execution_count": null,
   "metadata": {},
   "outputs": [],
   "source": [
    "# Task 1\n",
    "# Find the model number, speed and hard drive capacity for all the PCs with prices below $500.\n",
    "# Result set: model, speed, hd.\n",
    "\n",
    "SELECT \n",
    "  model, \n",
    "  speed, \n",
    "  hd \n",
    "FROM \n",
    "  pc \n",
    "WHERE \n",
    "  price < 500;"
   ]
  },
  {
   "cell_type": "code",
   "execution_count": null,
   "metadata": {},
   "outputs": [],
   "source": [
    "# Task 2\n",
    "# List all printer makers.\n",
    "# Result set: maker.\n",
    "\n",
    "SELECT \n",
    "  DISTINCT maker \n",
    "FROM \n",
    "  product \n",
    "WHERE \n",
    "  type = 'Printer';"
   ]
  },
  {
   "cell_type": "code",
   "execution_count": null,
   "metadata": {},
   "outputs": [],
   "source": [
    "# Task 3\n",
    "# Find the model number, RAM and screen size of the laptops with prices over $1000.\n",
    "\n",
    "SELECT \n",
    "  model, \n",
    "  ram, \n",
    "  screen \n",
    "FROM \n",
    "  laptop \n",
    "WHERE \n",
    "  price > 1000;"
   ]
  },
  {
   "cell_type": "code",
   "execution_count": null,
   "metadata": {},
   "outputs": [],
   "source": [
    "# Task 4\n",
    "# Find all records from the Printer table containing data about color printers.\n",
    "\n",
    "SELECT \n",
    "  * \n",
    "FROM \n",
    "  printer \n",
    "WHERE \n",
    "  color = 'y';"
   ]
  },
  {
   "cell_type": "code",
   "execution_count": null,
   "metadata": {},
   "outputs": [],
   "source": [
    "# Task 5\n",
    "# Find the model number, speed and hard drive capacity of PCs cheaper than $600 having a 12x or a 24x CD drive.\n",
    "\n",
    "SELECT \n",
    "  model, \n",
    "  speed, \n",
    "  hd \n",
    "FROM \n",
    "  pc \n",
    "WHERE \n",
    "  (\n",
    "    cd = '12x' \n",
    "    OR cd = '24x'\n",
    "  ) \n",
    "  AND price < 600;"
   ]
  },
  {
   "cell_type": "code",
   "execution_count": null,
   "metadata": {},
   "outputs": [],
   "source": [
    "# Task 6\n",
    "# For each maker producing laptops with a hard drive capacity of 10 Gb or higher, find the speed of such laptops.\n",
    "# Result set: maker, speed.\n",
    "\n",
    "SELECT \n",
    "  DISTINCT maker, \n",
    "  speed \n",
    "FROM \n",
    "  laptop \n",
    "  INNER JOIN product ON laptop.model = product.model \n",
    "WHERE \n",
    "  type = 'Laptop' \n",
    "  AND hd >= 10;"
   ]
  },
  {
   "cell_type": "code",
   "execution_count": null,
   "metadata": {},
   "outputs": [],
   "source": [
    "# Task 7\n",
    "# Get the models and prices for all commercially available products (of any type) produced by maker B.\n",
    "\n",
    "SELECT \n",
    "  DISTINCT pc.model, \n",
    "  pc.price \n",
    "FROM \n",
    "  product \n",
    "  INNER JOIN pc ON product.model = pc.model \n",
    "WHERE \n",
    "  maker = 'B'\n",
    "\n",
    "UNION \n",
    "\n",
    "SELECT \n",
    "  DISTINCT laptop.model, \n",
    "  laptop.price \n",
    "FROM \n",
    "  product \n",
    "  INNER JOIN laptop ON product.model = laptop.model \n",
    "WHERE \n",
    "  maker = 'B' \n",
    "\n",
    "UNION \n",
    "\n",
    "SELECT \n",
    "  DISTINCT printer.model, \n",
    "  printer.price \n",
    "FROM \n",
    "  product \n",
    "  INNER JOIN printer ON product.model = printer.model \n",
    "WHERE \n",
    "  maker = 'B'"
   ]
  }
 ],
 "metadata": {
  "language_info": {
   "name": "python"
  },
  "orig_nbformat": 4
 },
 "nbformat": 4,
 "nbformat_minor": 2
}
