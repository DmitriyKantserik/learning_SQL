{
 "cells": [
  {
   "attachments": {},
   "cell_type": "markdown",
   "metadata": {},
   "source": [
    "SQL-EX.RU\n",
    "\n",
    "DATABASE DESCRIPTION \"Computer firm\":\n",
    "\n",
    "The database scheme consists of four tables:\n",
    "\n",
    "* Product(maker, model, type)\n",
    "* PC(code, model, speed, ram, hd, cd, price)\n",
    "* Laptop(code, model, speed, ram, hd, screen, price)\n",
    "* Printer(code, model, color, type, price)\n",
    "\n",
    "The database scheme consists of four tables:\n",
    "Product(maker, model, type)\n",
    "PC(code, model, speed, ram, hd, cd, price)\n",
    "Laptop(code, model, speed, ram, hd, screen, price)\n",
    "Printer(code, model, color, type, price)\n",
    "The Product table contains data on the maker, model number, and type of product ('PC', 'Laptop', or 'Printer'). It is assumed that model numbers in the Product table are unique for all makers and product types. Each personal computer in the PC table is unambiguously identified by a unique code, and is additionally characterized by its model (foreign key referring to the Product table), processor speed (in MHz) – speed field, RAM capacity (in Mb) - ram, hard disk drive capacity (in Gb) – hd, CD-ROM speed (e.g, '4x') - cd, and its price. The Laptop table is similar to the PC table, except that instead of the CD-ROM speed, it contains the screen size (in inches) – screen. For each printer model in the Printer table, its output type (‘y’ for color and ‘n’ for monochrome) – color field, printing technology ('Laser', 'Jet', or 'Matrix') – type, and price are specified."
   ]
  },
  {
   "cell_type": "code",
   "execution_count": null,
   "metadata": {},
   "outputs": [],
   "source": [
    "# Task 1\n",
    "# Find the model number, speed and hard drive capacity for all the PCs with prices below $500.\n",
    "# Result set: model, speed, hd.\n",
    "\n",
    "SELECT \n",
    "  model, \n",
    "  speed, \n",
    "  hd \n",
    "FROM \n",
    "  pc \n",
    "WHERE \n",
    "  price < 500;"
   ]
  },
  {
   "cell_type": "code",
   "execution_count": null,
   "metadata": {},
   "outputs": [],
   "source": [
    "# Task 2\n",
    "# List all printer makers.\n",
    "# Result set: maker.\n",
    "\n",
    "SELECT \n",
    "  DISTINCT maker \n",
    "FROM \n",
    "  product \n",
    "WHERE \n",
    "  type = 'Printer';"
   ]
  }
 ],
 "metadata": {
  "language_info": {
   "name": "python"
  },
  "orig_nbformat": 4
 },
 "nbformat": 4,
 "nbformat_minor": 2
}
