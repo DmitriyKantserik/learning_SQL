{
 "cells": [
  {
   "attachments": {},
   "cell_type": "markdown",
   "metadata": {},
   "source": [
    "SQL-EX.RU\n",
    "\n",
    "DATABASE DESCRIPTION \"Computer firm\":\n",
    "\n",
    "The database scheme consists of four tables:\n",
    "\n",
    "* Product(maker, model, type)\n",
    "* PC(code, model, speed, ram, hd, cd, price)\n",
    "* Laptop(code, model, speed, ram, hd, screen, price)\n",
    "* Printer(code, model, color, type, price)"
   ]
  },
  {
   "cell_type": "code",
   "execution_count": null,
   "metadata": {},
   "outputs": [],
   "source": [
    "#Task 1"
   ]
  }
 ],
 "metadata": {
  "language_info": {
   "name": "python"
  },
  "orig_nbformat": 4
 },
 "nbformat": 4,
 "nbformat_minor": 2
}
